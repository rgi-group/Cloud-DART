{
  "cells": [
    {
      "cell_type": "markdown",
      "metadata": {},
      "source": [
        "# Alerting and Detection Strategy (ADS) for GuardDuty Alert: PrivilegeEscalation:Runtime/DockerSocketAccessed",
        "\n## Goal",
        "\nDetect unauthorized or suspicious access to the Docker socket, which could lead to privilege escalation.",
        "\n## Categorization",
        "\nMITRE ATT&CK: Privilege Escalation",
        "\n## Strategy Abstract",
        "\nThis ADS uses AWS GuardDuty alerts and Athena queries to detect unauthorized Docker socket access. It also includes Python code for automated responses.",
        "\n## Technical Context",
        "\nAWS GuardDuty generates alerts for suspicious activities. Athena queries can further filter these alerts. Python code can automate responses.",
        "\n## Blind Spots and Assumptions",
        "\nAssumes GuardDuty and CloudTrail are properly configured. May not detect activities that bypass these services.",
        "\n## False Positives",
        "\nAdministrative activities that require Docker socket access.",
        "\n## Validation",
        "\nTrigger a GuardDuty alert by accessing the Docker socket in a test environment.",
        "\n## Priority",
        "\nHigh",
        "\n## Response",
        "\nIsolate affected instance, investigate the root cause, and apply necessary patches.",
        "\n## Additional Resources",
        "\nAWS GuardDuty Documentation, AWS Athena Documentation"
      ]
    },
    {
      "cell_type": "markdown",
      "metadata": {},
      "source": [
        "## Investigation",
        "\n### Athena Queries",
        "\n#### Query: Identify Docker Socket Access Events",
        "\n```sql",
        "\nSELECT eventTime, eventName, instanceId, sourceIPAddress",
        "\nFROM guardduty_logs",
        "\nWHERE title = 'PrivilegeEscalation:Runtime/DockerSocketAccessed'",
        "\nAND severity >= 7",
        "\nORDER BY eventTime DESC;",
        "\n```"
      ]
    },
    {
      "cell_type": "markdown",
      "metadata": {},
      "source": [
        "## Containment",
        "\n### Python Code for Automated Response",
        "\n```python",
        "\nimport boto3",
        "\ndef isolate_affected_instance(instance_id):",
        "\n    ec2 = boto3.client('ec2')",
        "\n    # Modify Security Groups to an isolation group with no inbound or outbound rules",
        "\n    try:",
        "\n        ec2.modify_instance_attribute(InstanceId=instance_id, Groups=['sg-isolation-group-id'])",
        "\n        print(f'Successfully modified security group for instance {instance_id} to isolation group.')",
        "\n    except Exception as e:",
        "\n        print(f'Error modifying security group: {e}')",
        "\n```"
      ]
    },
    {
      "cell_type": "markdown",
      "metadata": {},
      "source": [
        "## Recovery",
        "\n### Steps",
        "\n1. Monitor the systems for signs of weaknesses.",
        "\n2. Restore the EC2 instance from a known good backup.",
        "\n3. Conduct a vulnerability assessment to ensure that the issue has been resolved."
      ]
    },
    {
      "cell_type": "markdown",
      "metadata": {},
      "source": [
        "## Lessons Learned",
        "\n### Steps",
        "\n1. Update incident response procedures and playbooks.",
        "\n2. Conduct a retrospective of the incident.",
        "\n3. Update training materials and conduct training sessions for the incident response team."
      ]
    }
  ],
  "metadata": {
    "kernelspec": {
      "display_name": "Python 3.9",
      "language": "python",
      "name": "python3"
    },
    "language_info": {
      "name": "python",
      "version": "3.9"
    }
  },
  "nbformat": 4,
  "nbformat_minor": 5
}
