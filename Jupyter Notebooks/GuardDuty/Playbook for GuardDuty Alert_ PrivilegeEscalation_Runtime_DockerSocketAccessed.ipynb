{
  "cells": [
    {
      "cell_type": "markdown",
      "source": [
        "# Alerting and Detection Strategy (ADS) Template\n",
        "## Goal\n",
        "The goal is the intended purpose of the alert. It is a simple, plaintext description of the type of behavior you're attempting to detect in your ADS.\n",
        "## Categorization\n",
        "The categorization is a mapping of the ADS to the relevant entry in the MITRE Adversarial Tactics, Techniques, and Common Knowledge (ATT&CK) Framework. ATT&CK provides a language for various post-exploitation techniques and strategies that adversaries might use.\n",
        "## Strategy Abstract\n",
        "The strategy abstract is a high-level walkthrough of how the ADS functions. This describes what the alert is looking for, what technical data sources are used, any enrichment that occurs, and any false positive minimization steps.\n",
        "## Technical Context\n",
        "Technical Context provides detailed information and background needed for a responder to understand all components of the alert.\n",
        "## Blind Spots and Assumptions\n",
        "Blind Spots and Assumptions are the recognized issues, assumptions, and areas where an ADS may not fire.\n",
        "## False Positives\n",
        "False Positives are the known instances of an ADS misfiring due to a misconfiguration, idiosyncrasy in the environment, or other non-malicious scenario.\n",
        "## Validation\n",
        "Validation are the steps required to generate a representative true positive event which triggers this alert.\n",
        "## Priority\n",
        "Priority describes the various alerting levels that an ADS may be tagged with.\n",
        "## Response\n",
        "These are the general response steps in the event that this alert fired.\n",
        "## Additional Resources\n",
        "Additional Resources are any other internal, external, or technical references that may be useful for understanding the ADS."
      ],
      "metadata": {
        "noteable": {
          "cell_type": "markdown"
        }
      },
      "id": "5418e469-1b80-4665-8223-68ecf53510f1"
    },
    {
      "cell_type": "markdown",
      "source": [
        "## Appendices\n",
        "### Tools and Resources\n",
        "1. AWS GuardDuty\n",
        "2. AWS Athena\n",
        "3. Your SIEM Tool\n",
        "4. Incident Response Platform (e.g., Tines, TheHive)\n",
        "### Contact Information\n",
        "1. Incident Response Team: [Contact Details]\n",
        "2. AWS Support: [Contact Details]"
      ],
      "metadata": {
        "noteable": {
          "cell_type": "markdown"
        }
      },
      "id": "365e31d9-0bd5-4303-97a9-316325d7addb"
    },
    {
      "cell_type": "markdown",
      "source": [
        "## Lessons Learned\n",
        "### Steps\n",
        "1. Update incident response procedures and playbooks.\n",
        "2. Conduct a retrospective of the incident.\n",
        "3. New: Update training materials and conduct training sessions for the incident response team."
      ],
      "metadata": {
        "noteable": {
          "cell_type": "markdown"
        }
      },
      "id": "db665928-53fe-4643-8366-81fd35371bfb"
    },
    {
      "cell_type": "markdown",
      "source": [
        "## Recovery\n",
        "### Steps\n",
        "1. Monitor the systems for signs of weaknesses.\n",
        "2. Restore the EC2 instance from a known good backup.\n",
        "3. New: Conduct a vulnerability assessment to ensure that the issue has been resolved."
      ],
      "metadata": {
        "noteable": {
          "cell_type": "markdown"
        }
      },
      "id": "9a003ee1-11c4-4b0a-a149-c918981aed32"
    },
    {
      "cell_type": "markdown",
      "source": [
        "## Eradication\n",
        "### Steps\n",
        "1. Analyze the root cause.\n",
        "2. Patch or update the software.\n",
        "3. New: Validate the patch or update to ensure it has been applied successfully."
      ],
      "metadata": {
        "noteable": {
          "cell_type": "markdown"
        }
      },
      "id": "9d0b2e99-cd77-448f-a550-daee3a813c46"
    },
    {
      "cell_type": "markdown",
      "source": [
        "## Containment\n",
        "### Short-Term & Long-Term Actions\n",
        "#### Short-Term: Isolate the affected EC2 instance from the network.\n",
        "```python\n",
        "import boto3\n",
        "\n",
        "def isolate_ec2_instance(instance_id):\n",
        "    # Isolate the affected EC2 instance from the network by disassociating its Elastic IP and modifying security groups.\n",
        "    ec2 = boto3.client('ec2')\n",
        "    # Disassociate Elastic IP if any\n",
        "    try:\n",
        "        response = ec2.describe_instances(InstanceIds=[instance_id])\n",
        "        public_ip = response['Reservations'][0]['Instances'][0].get('PublicIpAddress', None)\n",
        "        if public_ip:\n",
        "            ec2.disassociate_address(PublicIp=public_ip)\n",
        "            print(f'Successfully disassociated Elastic IP {public_ip} from instance {instance_id}.')\n",
        "    except Exception as e:\n",
        "        print(f'Error disassociating Elastic IP: {e}')\n",
        "    # Modify Security Groups to an isolation group with no inbound or outbound rules\n",
        "    try:\n",
        "        ec2.modify_instance_attribute(InstanceId=instance_id, Groups=['sg-isolation-group-id'])\n",
        "        print(f'Successfully modified security group for instance {instance_id} to isolation group.')\n",
        "    except Exception as e:\n",
        "        print(f'Error modifying security group: {e}')\n",
        "```\n",
        "#### Long-Term: Review and update IAM roles and security groups to follow the principle of least privilege."
      ],
      "metadata": {
        "noteable": {
          "cell_type": "markdown"
        }
      },
      "id": "e7cf439a-0173-4661-a784-d5cec4f21ff4"
    },
    {
      "cell_type": "markdown",
      "source": [
        "## Investigation\n",
        "### Objective\n",
        "Understand the nature of the access and whether it was malicious.\n",
        "### Athena Queries\n",
        "#### Query 1: Identify Docker Socket Access Events\n",
        "```sql\n",
        "-- New: Added more specific fields for better readability\n",
        "SELECT eventTime, eventName, sourceIPAddress, userAgent\n",
        "FROM cloudtrail_logs\n",
        "WHERE eventName = 'DockerSocketAccessed'\n",
        "AND eventSource = 'runtime'\n",
        "AND instanceId = '<Affected_Instance_ID>'\n",
        "ORDER BY eventTime DESC;\n",
        "```\n",
        "#### Query 2: Identify User Activities\n",
        "```sql\n",
        "-- New: Added filtering by event types that are generally associated with privilege escalation\n",
        "SELECT eventTime, eventName, eventSource, sourceIPAddress, userAgent\n",
        "FROM cloudtrail_logs\n",
        "WHERE userIdentity.arn = '<Affected_User_ARN>'\n",
        "AND eventName IN ('AssumeRole', 'AddUserToGroup', 'AttachUserPolicy')\n",
        "AND eventTime BETWEEN '<Start_Time>' AND '<End_Time>'\n",
        "ORDER BY eventTime DESC;\n",
        "```"
      ],
      "metadata": {
        "noteable": {
          "cell_type": "markdown"
        }
      },
      "id": "46985412-c33b-462c-a85e-e512dd95246e"
    },
    {
      "cell_type": "markdown",
      "source": [
        "## Initial Response\n",
        "### Objective\n",
        "Quickly assess the situation and determine the scope of the incident.\n",
        "### Steps\n",
        "1. Validate the GuardDuty alert in the Security Account AWS Console.\n",
        "2. Identify the affected EC2 instance and its associated metadata tags.\n",
        "3. Move into the investigation phase."
      ],
      "metadata": {
        "noteable": {
          "cell_type": "markdown"
        }
      },
      "id": "c5c3d86e-d4a4-469c-9e5b-36e07b5dd159"
    },
    {
      "cell_type": "markdown",
      "source": [
        "# Versioning and Metadata\n",
        "## Version: 1.1\n",
        "## Last Updated: 2023-09-11\n",
        "## Author: @Christopher Watkins\n",
        "## Reviewers: [Names of Reviewers]\n",
        "----\n",
        "# Table of Contents\n",
        "1. [Initial Response](#Initial-Response)\n",
        "2. [Investigation](#Investigation)\n",
        "3. [Athena Queries](#Athena-Queries)\n",
        "4. [Containment](#Containment)\n",
        "5. [Eradication](#Eradication)\n",
        "6. [Recovery](#Recovery)\n",
        "7. [Lessons Learned](#Lessons-Learned)\n",
        "8. [Appendices](#Appendices)"
      ],
      "metadata": {
        "noteable": {
          "cell_type": "markdown"
        }
      },
      "id": "966ce014-991f-45d4-a45b-e889307faee6"
    }
  ],
  "metadata": {
    "noteable-chatgpt": {
      "create_notebook": {
        "openai_conversation_id": "56ca7446-6a2e-5914-b69d-4545540432c8",
        "openai_ephemeral_user_id": "a926574c-ccc3-586c-b69f-e103acafd8a0",
        "openai_subdivision1_iso_code": "US-TN"
      }
    },
    "kernel_info": {
      "name": "python3"
    },
    "kernelspec": {
      "display_name": "Python 3.9",
      "language": "python",
      "name": "python3"
    },
    "selected_hardware_size": "small",
    "noteable": {
      "last_delta_id": "cb0575b5-d5de-4179-a995-8020d011b05a"
    },
    "nteract": {
      "version": "noteable@2.9.0"
    }
  },
  "nbformat": 4,
  "nbformat_minor": 5
}