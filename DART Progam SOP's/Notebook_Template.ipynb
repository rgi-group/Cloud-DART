{
  "cells": [
    {
      "cell_type": "markdown",
      "id": "484f74e4",
      "metadata": {},
      "source": [
        "# Postman Security Incident Response Notebook Template\n",
        "## Table of Contents\n",
        "1. [ADS Template](#ADS-Template)\n",
        "2. [Playbook](#Playbook)\n",
        "3. [Runbook](#Runbook)"
      ]
    },
    {
      "cell_type": "markdown",
      "id": "816cff9e",
      "metadata": {},
      "source": [
        "# ADS Template\n",
        "## ADS Template\n",
        "### Goal\n",
        "The goal is the intended purpose of the alert.\n",
        "### Categorization\n",
        "Mapping to the MITRE ATT&CK Framework.\n",
        "### Strategy Abstract\n",
        "High-level walkthrough of how the ADS functions.\n",
        "### Technical Context\n",
        "Detailed information and background needed for a responder.\n",
        "### Blind Spots and Assumptions\n",
        "Recognized issues, assumptions, and areas where an ADS may not fire.\n",
        "### False Positives\n",
        "Known instances of an ADS misfiring and how to minimize them.\n",
        "### Validation\n",
        "Steps required to generate a true positive event.\n",
        "### Priority\n",
        "Various alerting levels that an ADS may have.\n",
        "### Response\n",
        "General response steps if the alert fires.\n",
        "### Additional Resources\n",
        "Any other useful references for understanding the ADS."
      ]
    },
    {
      "cell_type": "markdown",
      "id": "3c08bc1c",
      "metadata": {},
      "source": [
        "# Playbook\n",
        "This section outlines the playbook for responding to security incidents."
      ]
    },
    {
      "cell_type": "markdown",
      "id": "21fb659b",
      "metadata": {},
      "source": [
        "# Runbook\n",
        "This section contains all the boto3 code and Athena searches for automated incident response."
      ]
    },
    {
      "cell_type": "markdown",
      "id": "f3ab2bd4",
      "metadata": {},
      "source": [
        "# Postman Security Jupyter Notebook Template\n",
        "## Versioning and Metadata\n",
        "Version: 1.0\n",
        "Last Updated: 2023-09-11\n",
        "Author: @YourName\n",
        "Reviewers: [Names of Reviewers]\n",
        "## Table of Contents\n",
        "1. [Initial Response](#Initial-Response)\n",
        "2. [Investigation](#Investigation)\n",
        "3. [Athena Queries](#Athena-Queries)\n",
        "4. [Containment](#Containment)\n",
        "5. [Eradication](#Eradication)\n",
        "6. [Recovery](#Recovery)\n",
        "7. [Lessons Learned](#Lessons-Learned)\n",
        "8. [Appendices](#Appendices)"
      ]
    },
    {
      "cell_type": "markdown",
      "id": "c050ec2f",
      "metadata": {},
      "source": [
        "## Initial Response\n",
        "### Objective\n",
        "Quickly assess the situation and determine the scope of the incident.\n",
        "### Steps\n",
        "1. Validate the alert in the Security Console.\n",
        "2. Identify the affected instance and its metadata tags.\n",
        "3. Move into the investigation phase."
      ]
    },
    {
      "cell_type": "code",
      "execution_count": null,
      "id": "760709e6",
      "metadata": {},
      "outputs": [],
      "source": [
        "import boto3\n",
        "import pandas as pd\n",
        "from pyathena import connect\n",
        "from IPython.display import display\n",
        "\n",
        "athena_bucket = 's3://your-athena-bucket/'\n",
        "region = 'your-region'\n",
        "\n",
        "def query_athena(sql):\n",
        "    cursor = connect(s3_staging_dir=athena_bucket, region_name=region).cursor()\n",
        "    cursor.execute(sql)\n",
        "    columns = cursor.description\n",
        "    data = cursor.fetchall()\n",
        "    column_names = [column[0] for column in columns]\n",
        "    rows = [dict(zip(column_names, data_row)) for data_row in data]\n",
        "    df = pd.DataFrame(rows, columns=column_names)\n",
        "    display(df)"
      ]
    },
    {
      "cell_type": "markdown",
      "id": "0f10570e",
      "metadata": {},
      "source": [
        "## Investigation\n",
        "### Objective\n",
        "Understand the nature of the access and whether it was malicious.\n",
        "### Athena Queries\n",
        "#### Query 1: Identify Relevant Events\n",
        "```sql\n",
        "SELECT eventTime, eventName, sourceIPAddress, userAgent\n",
        "FROM cloudtrail_logs\n",
        "WHERE eventName = 'YourEventName'\n",
        "AND eventSource = 'YourEventSource'\n",
        "AND instanceId = '<Affected_Instance_ID>'\n",
        "ORDER BY eventTime DESC;\n",
        "```\n",
        "#### Query 2: Identify User Activities\n",
        "```sql\n",
        "SELECT eventTime, eventName, eventSource, sourceIPAddress, userAgent\n",
        "FROM cloudtrail_logs\n",
        "WHERE userIdentity.arn = '<Affected_User_ARN>'\n",
        "AND eventName IN ('AssumeRole', 'AddUserToGroup', 'AttachUserPolicy')\n",
        "AND eventTime BETWEEN '<Start_Time>' AND '<End_Time>'\n",
        "ORDER BY eventTime DESC;\n",
        "```"
      ]
    },
    {
      "cell_type": "code",
      "execution_count": null,
      "id": "bda45ef0",
      "metadata": {},
      "outputs": [],
      "source": [
        "# Query to identify relevant events\n",
        "sql_query1 = \"\"\"\n",
        "SELECT eventTime, eventName, sourceIPAddress, userAgent\n",
        "FROM cloudtrail_logs\n",
        "WHERE eventName = 'YourEventName'\n",
        "AND eventSource = 'YourEventSource'\n",
        "AND instanceId = '<Affected_Instance_ID>'\n",
        "ORDER BY eventTime DESC\n",
        "\"\"\"\n",
        "query_athena(sql_query1)\n",
        "\n",
        "# Query to identify user activities\n",
        "sql_query2 = \"\"\"\n",
        "SELECT eventTime, eventName, eventSource, sourceIPAddress, userAgent\n",
        "FROM cloudtrail_logs\n",
        "WHERE userIdentity.arn = '<Affected_User_ARN>'\n",
        "AND eventName IN ('AssumeRole', 'AddUserToGroup', 'AttachUserPolicy')\n",
        "AND eventTime BETWEEN '<Start_Time>' AND '<End_Time>'\n",
        "ORDER BY eventTime DESC\n",
        "\"\"\"\n",
        "query_athena(sql_query2)"
      ]
    },
    {
      "cell_type": "markdown",
      "id": "3a8092d5",
      "metadata": {},
      "source": [
        "## Containment\n",
        "### Objective\n",
        "Isolate the affected instances to prevent further damage.\n",
        "### Steps\n",
        "1. Isolate the affected instance in a security group.\n",
        "2. Disable any suspicious IAM roles or policies.\n",
        "3. Take snapshots of affected volumes for forensic analysis."
      ]
    },
    {
      "cell_type": "markdown",
      "id": "0934cd5f",
      "metadata": {},
      "source": [
        "## Eradication\n",
        "### Objective\n",
        "Remove the root cause of the incident.\n",
        "### Steps\n",
        "1. Terminate any unauthorized instances.\n",
        "2. Delete or modify any unauthorized security groups, IAM roles, or policies.\n",
        "3. Validate that the root cause has been removed."
      ]
    },
    {
      "cell_type": "markdown",
      "id": "5fa8e0ff",
      "metadata": {},
      "source": [
        "## Recovery\n",
        "### Objective\n",
        "Restore and validate system functionality for business operations to resume.\n",
        "### Steps\n",
        "1. Monitor the affected systems for signs of weaknesses that could be re-exploited.\n",
        "2. Restore affected systems from clean backups.\n",
        "3. Confirm with business stakeholders that system functionality is restored."
      ]
    },
    {
      "cell_type": "markdown",
      "id": "077abe02",
      "metadata": {},
      "source": [
        "## Lessons Learned\n",
        "### Objective\n",
        "Review the incident to identify areas for improvement.\n",
        "### Steps\n",
        "1. Conduct a post-incident review with all involved parties.\n",
        "2. Document any changes to procedures, policies, and tools.\n",
        "3. Update the ADS and other detection mechanisms based on the findings."
      ]
    },
    {
      "cell_type": "markdown",
      "id": "c88bb408",
      "metadata": {},
      "source": [
        "## Appendices\n",
        "### A. Additional Resources\n",
        "1. [AWS Athena Documentation](https://docs.aws.amazon.com/athena/latest/ug/what-is.html)\n",
        "2. [MITRE ATT&CK Framework](https://attack.mitre.org/)\n",
        "3. [Your Company's Security Policies](#)\n",
        "### B. Glossary\n",
        "1. ADS - Alert Detection Strategy\n",
        "2. IAM - Identity and Access Management\n",
        "3. SIEM - Security Information and Event Management"
      ]
    }
  ],
  "metadata": {
    "kernel_info": {
      "name": "python3"
    },
    "kernelspec": {
      "display_name": "Python 3.9",
      "language": "python",
      "name": "python3"
    },
    "noteable": {
      "last_delta_id": "ef0dae2d-98cd-4153-9d36-7e494a24d8f3"
    },
    "noteable-chatgpt": {
      "create_notebook": {
        "openai_conversation_id": "56ca7446-6a2e-5914-b69d-4545540432c8",
        "openai_ephemeral_user_id": "a926574c-ccc3-586c-b69f-e103acafd8a0",
        "openai_subdivision1_iso_code": "US-TN"
      }
    },
    "nteract": {
      "version": "noteable@2.9.0"
    },
    "selected_hardware_size": "small"
  },
  "nbformat": 4,
  "nbformat_minor": 5
}
